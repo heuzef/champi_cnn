{
 "cells": [
  {
   "cell_type": "markdown",
   "metadata": {},
   "source": [
    "# Téléchargement des modèles"
   ]
  },
  {
   "cell_type": "code",
   "execution_count": 1,
   "metadata": {},
   "outputs": [
    {
     "name": "stdout",
     "output_type": "stream",
     "text": [
      "Requirement already satisfied: pandas in /home/heuzef/GIT/jan24_cds_mushrooms/.venv/lib/python3.11/site-packages (2.2.2)\n",
      "Requirement already satisfied: requests in /home/heuzef/GIT/jan24_cds_mushrooms/.venv/lib/python3.11/site-packages (2.32.3)\n",
      "Requirement already satisfied: numpy>=1.23.2 in /home/heuzef/GIT/jan24_cds_mushrooms/.venv/lib/python3.11/site-packages (from pandas) (1.26.4)\n",
      "Requirement already satisfied: python-dateutil>=2.8.2 in /home/heuzef/GIT/jan24_cds_mushrooms/.venv/lib/python3.11/site-packages (from pandas) (2.9.0.post0)\n",
      "Requirement already satisfied: pytz>=2020.1 in /home/heuzef/GIT/jan24_cds_mushrooms/.venv/lib/python3.11/site-packages (from pandas) (2024.1)\n",
      "Requirement already satisfied: tzdata>=2022.7 in /home/heuzef/GIT/jan24_cds_mushrooms/.venv/lib/python3.11/site-packages (from pandas) (2024.1)\n",
      "Requirement already satisfied: charset-normalizer<4,>=2 in /home/heuzef/GIT/jan24_cds_mushrooms/.venv/lib/python3.11/site-packages (from requests) (3.3.2)\n",
      "Requirement already satisfied: idna<4,>=2.5 in /home/heuzef/GIT/jan24_cds_mushrooms/.venv/lib/python3.11/site-packages (from requests) (3.7)\n",
      "Requirement already satisfied: urllib3<3,>=1.21.1 in /home/heuzef/GIT/jan24_cds_mushrooms/.venv/lib/python3.11/site-packages (from requests) (2.2.2)\n",
      "Requirement already satisfied: certifi>=2017.4.17 in /home/heuzef/GIT/jan24_cds_mushrooms/.venv/lib/python3.11/site-packages (from requests) (2024.7.4)\n",
      "Requirement already satisfied: six>=1.5 in /home/heuzef/GIT/jan24_cds_mushrooms/.venv/lib/python3.11/site-packages (from python-dateutil>=2.8.2->pandas) (1.16.0)\n",
      "\n",
      "\u001b[1m[\u001b[0m\u001b[34;49mnotice\u001b[0m\u001b[1;39;49m]\u001b[0m\u001b[39;49m A new release of pip is available: \u001b[0m\u001b[31;49m24.1.2\u001b[0m\u001b[39;49m -> \u001b[0m\u001b[32;49m24.2\u001b[0m\n",
      "\u001b[1m[\u001b[0m\u001b[34;49mnotice\u001b[0m\u001b[1;39;49m]\u001b[0m\u001b[39;49m To update, run: \u001b[0m\u001b[32;49mpip install --upgrade pip\u001b[0m\n"
     ]
    }
   ],
   "source": [
    "!pip install pandas requests"
   ]
  },
  {
   "cell_type": "code",
   "execution_count": 2,
   "metadata": {},
   "outputs": [],
   "source": [
    "import os\n",
    "import shutil\n",
    "import pandas as pd\n",
    "import requests"
   ]
  },
  {
   "cell_type": "code",
   "execution_count": 3,
   "metadata": {},
   "outputs": [
    {
     "name": "stdout",
     "output_type": "stream",
     "text": [
      "Dossier existant 'artifacts' supprimé.\n",
      "Nouveau dossier 'artifacts' créé.\n",
      "Le fichier a été téléchargé avec succès : artifacts/yvan_jarvispore.h5\n",
      "Le fichier a été téléchargé avec succès : artifacts/florent_resnet18.pth\n",
      "Le fichier a été téléchargé avec succès : artifacts/heuzef_efficientnetb1_010.keras\n",
      "Le fichier a été téléchargé avec succès : artifacts/vik_resnet50.h5\n",
      "Le fichier a été téléchargé avec succès : artifacts/heuzef_lenet_001.keras\n"
     ]
    }
   ],
   "source": [
    "!python3 ./download_models.py"
   ]
  }
 ],
 "metadata": {
  "kernelspec": {
   "display_name": "jarvis_env",
   "language": "python",
   "name": "python3"
  },
  "language_info": {
   "codemirror_mode": {
    "name": "ipython",
    "version": 3
   },
   "file_extension": ".py",
   "mimetype": "text/x-python",
   "name": "python",
   "nbconvert_exporter": "python",
   "pygments_lexer": "ipython3",
   "version": "3.11.9"
  }
 },
 "nbformat": 4,
 "nbformat_minor": 2
}
