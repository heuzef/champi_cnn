{
 "cells": [
  {
   "cell_type": "markdown",
   "metadata": {},
   "source": [
    ">  Ce notebook permet de générer manuellement le fichier dataset.csv suite au webscraping de MO si besoin"
   ]
  },
  {
   "cell_type": "markdown",
   "metadata": {},
   "source": [
    "Initialisation"
   ]
  },
  {
   "cell_type": "code",
   "execution_count": 11,
   "metadata": {},
   "outputs": [],
   "source": [
    "# Import des librairies\n",
    "import os\n",
    "import pandas as pd\n",
    "\n",
    "# Repertoire des donnés\n",
    "data_path = \"D:/LAYER0/MO/MO/\"\n",
    "\n",
    "# Liste des dossiers\n",
    "data_folders = os.listdir(data_path)\n",
    "number_of_folders = len(data_folders)\n",
    "\n",
    "#  CSV à générer\n",
    "output_path = 'D:/LAYER0/MO/dataset.csv'"
   ]
  },
  {
   "cell_type": "markdown",
   "metadata": {},
   "source": [
    "Lecture des données récupérés"
   ]
  },
  {
   "cell_type": "code",
   "execution_count": 12,
   "metadata": {},
   "outputs": [
    {
     "name": "stdout",
     "output_type": "stream",
     "text": [
      "Dossiers :  ['1174', '15162', '1540', '2749', '29997', '330', '344', '362', '373', '382', '39842', '42', '50164', '63454']\n",
      "Nombre de dossiers :  14\n"
     ]
    }
   ],
   "source": [
    "print(\"Dossiers : \", data_folders)\n",
    "print(\"Nombre de dossiers : \", number_of_folders)"
   ]
  },
  {
   "cell_type": "code",
   "execution_count": 35,
   "metadata": {},
   "outputs": [
    {
     "name": "stdout",
     "output_type": "stream",
     "text": [
      "Nombre de fichiers dans  D:/LAYER0/MO/MO/1174\n",
      "230\n",
      "Nombre de fichiers dans  D:/LAYER0/MO/MO/15162\n",
      "147\n",
      "Nombre de fichiers dans  D:/LAYER0/MO/MO/1540\n",
      "158\n",
      "Nombre de fichiers dans  D:/LAYER0/MO/MO/2749\n",
      "12\n",
      "Nombre de fichiers dans  D:/LAYER0/MO/MO/29997\n",
      "187\n",
      "Nombre de fichiers dans  D:/LAYER0/MO/MO/330\n",
      "192\n",
      "Nombre de fichiers dans  D:/LAYER0/MO/MO/344\n",
      "199\n",
      "Nombre de fichiers dans  D:/LAYER0/MO/MO/362\n",
      "218\n",
      "Nombre de fichiers dans  D:/LAYER0/MO/MO/373\n",
      "259\n",
      "Nombre de fichiers dans  D:/LAYER0/MO/MO/382\n",
      "259\n",
      "Nombre de fichiers dans  D:/LAYER0/MO/MO/39842\n",
      "103\n",
      "Nombre de fichiers dans  D:/LAYER0/MO/MO/42\n",
      "248\n",
      "Nombre de fichiers dans  D:/LAYER0/MO/MO/50164\n",
      "111\n",
      "Nombre de fichiers dans  D:/LAYER0/MO/MO/63454\n",
      "115\n",
      "Nombre total de fichiers :  2438\n"
     ]
    }
   ],
   "source": [
    "total_files = 0\n",
    "for id_folder in data_folders:\n",
    "    path = data_path+id_folder\n",
    "    files = os.listdir(path)\n",
    "    number_of_files = len(files)\n",
    "    print(\"Nombre de fichiers dans \", path)\n",
    "    print(number_of_files)\n",
    "    total_files += number_of_files\n",
    "\n",
    "print(\"Nombre total de fichiers : \", total_files)"
   ]
  },
  {
   "cell_type": "markdown",
   "metadata": {},
   "source": [
    "Création du dataframe"
   ]
  },
  {
   "cell_type": "code",
   "execution_count": 66,
   "metadata": {},
   "outputs": [
    {
     "data": {
      "text/html": [
       "<div>\n",
       "<style scoped>\n",
       "    .dataframe tbody tr th:only-of-type {\n",
       "        vertical-align: middle;\n",
       "    }\n",
       "\n",
       "    .dataframe tbody tr th {\n",
       "        vertical-align: top;\n",
       "    }\n",
       "\n",
       "    .dataframe thead th {\n",
       "        text-align: right;\n",
       "    }\n",
       "</style>\n",
       "<table border=\"1\" class=\"dataframe\">\n",
       "  <thead>\n",
       "    <tr style=\"text-align: right;\">\n",
       "      <th></th>\n",
       "      <th>species_id</th>\n",
       "      <th>merged_ids</th>\n",
       "      <th>imgs_files</th>\n",
       "      <th>total_files</th>\n",
       "    </tr>\n",
       "  </thead>\n",
       "  <tbody>\n",
       "    <tr>\n",
       "      <th>0</th>\n",
       "      <td>1174</td>\n",
       "      <td>1038882,1042873,1043175,1043176,1061154,107690...</td>\n",
       "      <td>1038882.jpg,1042873.jpg,1043175.jpg,1043176.jp...</td>\n",
       "      <td>230</td>\n",
       "    </tr>\n",
       "    <tr>\n",
       "      <th>1</th>\n",
       "      <td>15162</td>\n",
       "      <td>1035951,1035952,1044677,1044678,1068730,107367...</td>\n",
       "      <td>1035951.jpg,1035952.jpg,1044677.jpg,1044678.jp...</td>\n",
       "      <td>147</td>\n",
       "    </tr>\n",
       "    <tr>\n",
       "      <th>2</th>\n",
       "      <td>1540</td>\n",
       "      <td>1070158,1072158,1072159,1076350,1076351,108143...</td>\n",
       "      <td>1070158.jpg,1072158.jpg,1072159.jpg,1076350.jp...</td>\n",
       "      <td>158</td>\n",
       "    </tr>\n",
       "    <tr>\n",
       "      <th>3</th>\n",
       "      <td>2749</td>\n",
       "      <td>19603,19683,38234,48567,48607,51775,53217,5339...</td>\n",
       "      <td>19603.jpg,19683.jpg,38234.jpg,48567.jpg,48607....</td>\n",
       "      <td>12</td>\n",
       "    </tr>\n",
       "    <tr>\n",
       "      <th>4</th>\n",
       "      <td>29997</td>\n",
       "      <td>1019402,1022171,1022173,1031446,1032006,103200...</td>\n",
       "      <td>1019402.jpg,1022171.jpg,1022173.jpg,1031446.jp...</td>\n",
       "      <td>187</td>\n",
       "    </tr>\n",
       "    <tr>\n",
       "      <th>5</th>\n",
       "      <td>330</td>\n",
       "      <td>1000839,101125,101126,1020108,1047060,1058461,...</td>\n",
       "      <td>1000839.jpg,101125.jpg,101126.jpg,1020108.jpg,...</td>\n",
       "      <td>192</td>\n",
       "    </tr>\n",
       "    <tr>\n",
       "      <th>6</th>\n",
       "      <td>344</td>\n",
       "      <td>102050,107133,1071722,1075718,1089687,1090898,...</td>\n",
       "      <td>102050.jpg,107133.jpg,1071722.jpg,1075718.jpg,...</td>\n",
       "      <td>199</td>\n",
       "    </tr>\n",
       "    <tr>\n",
       "      <th>7</th>\n",
       "      <td>362</td>\n",
       "      <td>1001208,1002765,1002766,1002767,1002768,100276...</td>\n",
       "      <td>1001208.jpg,1002765.jpg,1002766.jpg,1002767.jp...</td>\n",
       "      <td>218</td>\n",
       "    </tr>\n",
       "    <tr>\n",
       "      <th>8</th>\n",
       "      <td>373</td>\n",
       "      <td>1017358,1029199,1029201,1029205,1031850,104014...</td>\n",
       "      <td>1017358.jpg,1029199.jpg,1029201.jpg,1029205.jp...</td>\n",
       "      <td>259</td>\n",
       "    </tr>\n",
       "    <tr>\n",
       "      <th>9</th>\n",
       "      <td>382</td>\n",
       "      <td>100599,100600,101528,1047052,1062503,1062531,1...</td>\n",
       "      <td>100599.jpg,100600.jpg,101528.jpg,1047052.jpg,1...</td>\n",
       "      <td>259</td>\n",
       "    </tr>\n",
       "    <tr>\n",
       "      <th>10</th>\n",
       "      <td>39842</td>\n",
       "      <td>1071341,1074742,1074746,1074764,1085398,108540...</td>\n",
       "      <td>1071341.jpg,1074742.jpg,1074746.jpg,1074764.jp...</td>\n",
       "      <td>103</td>\n",
       "    </tr>\n",
       "    <tr>\n",
       "      <th>11</th>\n",
       "      <td>42</td>\n",
       "      <td>1073,113898,11410,114795,115947,117503,118285,...</td>\n",
       "      <td>1073.jpg,113898.jpg,11410.jpg,114795.jpg,11594...</td>\n",
       "      <td>248</td>\n",
       "    </tr>\n",
       "    <tr>\n",
       "      <th>12</th>\n",
       "      <td>50164</td>\n",
       "      <td>1075389,1075390,1075391,1075392,1081755,108374...</td>\n",
       "      <td>1075389.jpg,1075390.jpg,1075391.jpg,1075392.jp...</td>\n",
       "      <td>111</td>\n",
       "    </tr>\n",
       "    <tr>\n",
       "      <th>13</th>\n",
       "      <td>63454</td>\n",
       "      <td>1026987,1026988,1034078,1034079,1177753,117974...</td>\n",
       "      <td>1026987.jpg,1026988.jpg,1034078.jpg,1034079.jp...</td>\n",
       "      <td>115</td>\n",
       "    </tr>\n",
       "  </tbody>\n",
       "</table>\n",
       "</div>"
      ],
      "text/plain": [
       "   species_id                                         merged_ids  \\\n",
       "0        1174  1038882,1042873,1043175,1043176,1061154,107690...   \n",
       "1       15162  1035951,1035952,1044677,1044678,1068730,107367...   \n",
       "2        1540  1070158,1072158,1072159,1076350,1076351,108143...   \n",
       "3        2749  19603,19683,38234,48567,48607,51775,53217,5339...   \n",
       "4       29997  1019402,1022171,1022173,1031446,1032006,103200...   \n",
       "5         330  1000839,101125,101126,1020108,1047060,1058461,...   \n",
       "6         344  102050,107133,1071722,1075718,1089687,1090898,...   \n",
       "7         362  1001208,1002765,1002766,1002767,1002768,100276...   \n",
       "8         373  1017358,1029199,1029201,1029205,1031850,104014...   \n",
       "9         382  100599,100600,101528,1047052,1062503,1062531,1...   \n",
       "10      39842  1071341,1074742,1074746,1074764,1085398,108540...   \n",
       "11         42  1073,113898,11410,114795,115947,117503,118285,...   \n",
       "12      50164  1075389,1075390,1075391,1075392,1081755,108374...   \n",
       "13      63454  1026987,1026988,1034078,1034079,1177753,117974...   \n",
       "\n",
       "                                           imgs_files  total_files  \n",
       "0   1038882.jpg,1042873.jpg,1043175.jpg,1043176.jp...          230  \n",
       "1   1035951.jpg,1035952.jpg,1044677.jpg,1044678.jp...          147  \n",
       "2   1070158.jpg,1072158.jpg,1072159.jpg,1076350.jp...          158  \n",
       "3   19603.jpg,19683.jpg,38234.jpg,48567.jpg,48607....           12  \n",
       "4   1019402.jpg,1022171.jpg,1022173.jpg,1031446.jp...          187  \n",
       "5   1000839.jpg,101125.jpg,101126.jpg,1020108.jpg,...          192  \n",
       "6   102050.jpg,107133.jpg,1071722.jpg,1075718.jpg,...          199  \n",
       "7   1001208.jpg,1002765.jpg,1002766.jpg,1002767.jp...          218  \n",
       "8   1017358.jpg,1029199.jpg,1029201.jpg,1029205.jp...          259  \n",
       "9   100599.jpg,100600.jpg,101528.jpg,1047052.jpg,1...          259  \n",
       "10  1071341.jpg,1074742.jpg,1074746.jpg,1074764.jp...          103  \n",
       "11  1073.jpg,113898.jpg,11410.jpg,114795.jpg,11594...          248  \n",
       "12  1075389.jpg,1075390.jpg,1075391.jpg,1075392.jp...          111  \n",
       "13  1026987.jpg,1026988.jpg,1034078.jpg,1034079.jp...          115  "
      ]
     },
     "metadata": {},
     "output_type": "display_data"
    }
   ],
   "source": [
    "data = []\n",
    "\n",
    "for id_folder in data_folders:\n",
    "    path = data_path+id_folder\n",
    "    files = os.listdir(path)\n",
    "    files_without_extension = [os.path.splitext(file)[0] for file in files]  # os.path.splitext(file) : Cette fonction de la bibliothèque os.path prend un nom de fichier et le divise en deux parties\n",
    "    data.append({\n",
    "        \"species_id\": id_folder, \n",
    "        \"merged_ids\": ','.join(files_without_extension),\n",
    "        \"imgs_files\": ','.join(files),\n",
    "        \"total_files\": len(files)\n",
    "    })\n",
    "\n",
    "webscraped = pd.DataFrame(data)\n",
    "display(webscraped)"
   ]
  },
  {
   "cell_type": "code",
   "execution_count": 69,
   "metadata": {},
   "outputs": [
    {
     "name": "stdout",
     "output_type": "stream",
     "text": [
      "Nombre total de fichiers : 2438\n"
     ]
    }
   ],
   "source": [
    "print(\"Nombre total de fichiers :\", webscraped['total_files'].sum())"
   ]
  },
  {
   "cell_type": "markdown",
   "metadata": {},
   "source": [
    "# Génération du fichier dataset.csv"
   ]
  },
  {
   "cell_type": "code",
   "execution_count": 68,
   "metadata": {},
   "outputs": [
    {
     "name": "stdout",
     "output_type": "stream",
     "text": [
      "Data saved to D:/LAYER0/MO/dataset.csv\n"
     ]
    }
   ],
   "source": [
    "webscraped.to_csv(output_path, index=False)\n",
    "\n",
    "print(f'Data saved to {output_path}')"
   ]
  },
  {
   "cell_type": "markdown",
   "metadata": {},
   "source": [
    "# Comparatif avec all_ids"
   ]
  },
  {
   "cell_type": "code",
   "execution_count": 70,
   "metadata": {},
   "outputs": [
    {
     "data": {
      "text/html": [
       "<div>\n",
       "<style scoped>\n",
       "    .dataframe tbody tr th:only-of-type {\n",
       "        vertical-align: middle;\n",
       "    }\n",
       "\n",
       "    .dataframe tbody tr th {\n",
       "        vertical-align: top;\n",
       "    }\n",
       "\n",
       "    .dataframe thead th {\n",
       "        text-align: right;\n",
       "    }\n",
       "</style>\n",
       "<table border=\"1\" class=\"dataframe\">\n",
       "  <thead>\n",
       "    <tr style=\"text-align: right;\">\n",
       "      <th></th>\n",
       "      <th>Overall_ID</th>\n",
       "      <th>Merged_IDs</th>\n",
       "    </tr>\n",
       "  </thead>\n",
       "  <tbody>\n",
       "    <tr>\n",
       "      <th>0</th>\n",
       "      <td>1174</td>\n",
       "      <td>405904,414778,594982,806590,336937,619647,1156...</td>\n",
       "    </tr>\n",
       "    <tr>\n",
       "      <th>1</th>\n",
       "      <td>15162</td>\n",
       "      <td>582982,320106,1331128,1534187,803949,1092685,1...</td>\n",
       "    </tr>\n",
       "    <tr>\n",
       "      <th>2</th>\n",
       "      <td>1540</td>\n",
       "      <td>1349717,1352393,1221166,1349760,1352392,137693...</td>\n",
       "    </tr>\n",
       "    <tr>\n",
       "      <th>3</th>\n",
       "      <td>2749</td>\n",
       "      <td>5392,19603,19683,48567,48607,53392,54011,56752...</td>\n",
       "    </tr>\n",
       "    <tr>\n",
       "      <th>4</th>\n",
       "      <td>29997</td>\n",
       "      <td>1661340,323814,1451660,1560965,1661341,323815,...</td>\n",
       "    </tr>\n",
       "    <tr>\n",
       "      <th>5</th>\n",
       "      <td>330</td>\n",
       "      <td>1203918,1070069,546940,1363007,575143,1065264,...</td>\n",
       "    </tr>\n",
       "    <tr>\n",
       "      <th>6</th>\n",
       "      <td>344</td>\n",
       "      <td>518444,1610987,1610986,503659,518442,1610985,5...</td>\n",
       "    </tr>\n",
       "    <tr>\n",
       "      <th>7</th>\n",
       "      <td>362</td>\n",
       "      <td>139037,139034,135195,78255,135196,78251,213823...</td>\n",
       "    </tr>\n",
       "    <tr>\n",
       "      <th>8</th>\n",
       "      <td>373</td>\n",
       "      <td>1105024,1107867,1129124,1164811,862772,910055,...</td>\n",
       "    </tr>\n",
       "    <tr>\n",
       "      <th>9</th>\n",
       "      <td>382</td>\n",
       "      <td>1618821,1621974,1638656,178484,1354000,1356763...</td>\n",
       "    </tr>\n",
       "    <tr>\n",
       "      <th>10</th>\n",
       "      <td>39842</td>\n",
       "      <td>1074764,1085405,1074746,1085403,1085402,118856...</td>\n",
       "    </tr>\n",
       "    <tr>\n",
       "      <th>11</th>\n",
       "      <td>42</td>\n",
       "      <td>732199,735820,736046,736852,757648,770219,7787...</td>\n",
       "    </tr>\n",
       "    <tr>\n",
       "      <th>12</th>\n",
       "      <td>50164</td>\n",
       "      <td>727940,628641,1081755,1075392,1353378,760795,1...</td>\n",
       "    </tr>\n",
       "    <tr>\n",
       "      <th>13</th>\n",
       "      <td>63454</td>\n",
       "      <td>151015,43831,46092,43833,13892,43829,13893,901...</td>\n",
       "    </tr>\n",
       "  </tbody>\n",
       "</table>\n",
       "</div>"
      ],
      "text/plain": [
       "    Overall_ID                                         Merged_IDs\n",
       "0         1174  405904,414778,594982,806590,336937,619647,1156...\n",
       "1        15162  582982,320106,1331128,1534187,803949,1092685,1...\n",
       "2         1540  1349717,1352393,1221166,1349760,1352392,137693...\n",
       "3         2749  5392,19603,19683,48567,48607,53392,54011,56752...\n",
       "4        29997  1661340,323814,1451660,1560965,1661341,323815,...\n",
       "5          330  1203918,1070069,546940,1363007,575143,1065264,...\n",
       "6          344  518444,1610987,1610986,503659,518442,1610985,5...\n",
       "7          362  139037,139034,135195,78255,135196,78251,213823...\n",
       "8          373  1105024,1107867,1129124,1164811,862772,910055,...\n",
       "9          382  1618821,1621974,1638656,178484,1354000,1356763...\n",
       "10       39842  1074764,1085405,1074746,1085403,1085402,118856...\n",
       "11          42  732199,735820,736046,736852,757648,770219,7787...\n",
       "12       50164  727940,628641,1081755,1075392,1353378,760795,1...\n",
       "13       63454  151015,43831,46092,43833,13892,43829,13893,901..."
      ]
     },
     "execution_count": 70,
     "metadata": {},
     "output_type": "execute_result"
    }
   ],
   "source": [
    "csv_file_path = '../notebooks/mushroom_observer/dataset-mushroom-observer/qualified-dataset/all_ids.csv'\n",
    "all_ids = pd.read_csv(csv_file_path)\n",
    "all_ids"
   ]
  },
  {
   "cell_type": "code",
   "execution_count": 116,
   "metadata": {},
   "outputs": [
    {
     "name": "stdout",
     "output_type": "stream",
     "text": [
      "Les deux DataFrames ont les mêmes especes :\n",
      " 0     True\n",
      "1     True\n",
      "2     True\n",
      "3     True\n",
      "4     True\n",
      "5     True\n",
      "6     True\n",
      "7     True\n",
      "8     True\n",
      "9     True\n",
      "10    True\n",
      "11    True\n",
      "12    True\n",
      "13    True\n",
      "dtype: bool\n",
      "all_ids' : 14\n",
      "webscraped' : 14\n",
      "Nombre total de fichier dans les deux dataframes :\n"
     ]
    },
    {
     "data": {
      "text/html": [
       "<div>\n",
       "<style scoped>\n",
       "    .dataframe tbody tr th:only-of-type {\n",
       "        vertical-align: middle;\n",
       "    }\n",
       "\n",
       "    .dataframe tbody tr th {\n",
       "        vertical-align: top;\n",
       "    }\n",
       "\n",
       "    .dataframe thead th {\n",
       "        text-align: right;\n",
       "    }\n",
       "</style>\n",
       "<table border=\"1\" class=\"dataframe\">\n",
       "  <thead>\n",
       "    <tr style=\"text-align: right;\">\n",
       "      <th></th>\n",
       "      <th>all_ids</th>\n",
       "      <th>webscraped</th>\n",
       "      <th>Difference</th>\n",
       "    </tr>\n",
       "  </thead>\n",
       "  <tbody>\n",
       "    <tr>\n",
       "      <th>0</th>\n",
       "      <td>2469</td>\n",
       "      <td>2438</td>\n",
       "      <td>31</td>\n",
       "    </tr>\n",
       "  </tbody>\n",
       "</table>\n",
       "</div>"
      ],
      "text/plain": [
       "   all_ids  webscraped  Difference\n",
       "0     2469        2438          31"
      ]
     },
     "metadata": {},
     "output_type": "display_data"
    }
   ],
   "source": [
    "# Comparaison\n",
    "\n",
    "print(f\"Les deux DataFrames ont les mêmes especes :\\n {all_ids[\"Overall_ID\"].astype('int64') == webscraped[\"species_id\"].astype('int64')}\")\n",
    "\n",
    "print(f\"all_ids' : {all_ids.shape[0]}\")\n",
    "\n",
    "print(f\"webscraped' : {webscraped.shape[0]}\")\n",
    "\n",
    "all_ids_total = all_ids[\"Merged_IDs\"].apply(lambda x: len(x.split(','))).sum(),\n",
    "webscraped_total = webscraped['total_files'].sum()\n",
    "\n",
    "total_number_of_files = pd.DataFrame({\n",
    "    \"all_ids\": all_ids_total,\n",
    "    \"webscraped\": webscraped_total,\n",
    "    \"Difference\": all_ids_total_files -  webscraped_total\n",
    "})\n",
    "\n",
    "print(\"Nombre total de fichier dans les deux dataframes :\")\n",
    "display(total_number_of_files)"
   ]
  }
 ],
 "metadata": {
  "kernelspec": {
   "display_name": "Python 3",
   "language": "python",
   "name": "python3"
  },
  "language_info": {
   "codemirror_mode": {
    "name": "ipython",
    "version": 3
   },
   "file_extension": ".py",
   "mimetype": "text/x-python",
   "name": "python",
   "nbconvert_exporter": "python",
   "pygments_lexer": "ipython3",
   "version": "3.12.1"
  }
 },
 "nbformat": 4,
 "nbformat_minor": 2
}
